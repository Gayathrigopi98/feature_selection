{
 "cells": [
  {
   "cell_type": "code",
   "execution_count": 54,
   "id": "911f96a2-e939-4f97-a6f8-ce3f6d226718",
   "metadata": {},
   "outputs": [],
   "source": [
    "import pandas as pd\n",
    "import numpy as np\n",
    "\n",
    "from sklearn.pipeline import Pipeline\n",
    "from sklearn.preprocessing import OneHotEncoder,MinMaxScaler\n",
    "\n",
    "from sklearn.compose import ColumnTransformer"
   ]
  },
  {
   "cell_type": "code",
   "execution_count": 56,
   "id": "291cd755-53b6-41ef-bcce-842c9ceb5267",
   "metadata": {},
   "outputs": [],
   "source": [
    "data = pd.read_csv(r\"C:\\Users\\infan\\train.csv\")"
   ]
  },
  {
   "cell_type": "code",
   "execution_count": 57,
   "id": "57a449cb-6b2b-4096-8335-b30b4bac644b",
   "metadata": {},
   "outputs": [
    {
     "data": {
      "text/plain": [
       "Index(['id', 'Gender', 'Age', 'Driving_License', 'Region_Code',\n",
       "       'Previously_Insured', 'Vehicle_Age', 'Vehicle_Damage', 'Annual_Premium',\n",
       "       'Policy_Sales_Channel', 'Vintage', 'Response'],\n",
       "      dtype='object')"
      ]
     },
     "execution_count": 57,
     "metadata": {},
     "output_type": "execute_result"
    }
   ],
   "source": [
    "data.columns"
   ]
  },
  {
   "cell_type": "code",
   "execution_count": 58,
   "id": "e81b123d-4919-418a-877d-18a34c8db87a",
   "metadata": {},
   "outputs": [
    {
     "data": {
      "text/plain": [
       "(381109, 12)"
      ]
     },
     "execution_count": 58,
     "metadata": {},
     "output_type": "execute_result"
    }
   ],
   "source": [
    "data.shape"
   ]
  },
  {
   "cell_type": "code",
   "execution_count": 62,
   "id": "b99ef2f6-7c69-4c60-8773-370be38f2161",
   "metadata": {},
   "outputs": [],
   "source": [
    "# classify numerical and categorical columns\n",
    "num_col =[]\n",
    "cat_col = []\n",
    "target_col = ['Response']\n",
    "ignore_col = ['id']\n",
    "for col in data.columns:\n",
    "    if col not in (target_col+ignore_col):\n",
    "        if data[col].dtypes == 'object':\n",
    "            cat_col.append(col)\n",
    "        else:\n",
    "            num_col.append(col)"
   ]
  },
  {
   "cell_type": "code",
   "execution_count": 64,
   "id": "1d358f1d-6c02-4b33-a473-5375ba6079b8",
   "metadata": {},
   "outputs": [],
   "source": [
    "cat_col_encode = Pipeline(steps=[\n",
    "    (\"one_hot_encoding\",OneHotEncoder(handle_unknown='ignore'))\n",
    "])\n",
    "num_col_encode = Pipeline(steps=[\n",
    "    (\"MinMaxScaler\",MinMaxScaler())\n",
    "])\n",
    "preprocess=ColumnTransformer(\n",
    "    transformers=[\n",
    "        ('cat_encode',cat_col_encode,cat_col),\n",
    "        ('num_encode',num_col_encode,num_col)\n",
    "    ]\n",
    ")"
   ]
  },
  {
   "cell_type": "code",
   "execution_count": 68,
   "id": "6e2f82b7-4453-45ba-8f4b-e97694fa36a2",
   "metadata": {},
   "outputs": [],
   "source": [
    "X= data.drop(target_col+ignore_col , axis=1)\n",
    "y = data['Response']"
   ]
  },
  {
   "cell_type": "markdown",
   "id": "ae7dfcfe-0a22-4cb6-8db5-136b0733f2ba",
   "metadata": {},
   "source": [
    "# Featureselection\n",
    "## supervised Learning \n",
    "### ---> We are having three methods i) Filter ii)wrapper iii)Embedded method"
   ]
  },
  {
   "cell_type": "markdown",
   "id": "157d527a-64ed-403f-bd85-0bb1dccaa3b3",
   "metadata": {},
   "source": [
    "## filter \n",
    "### ---> In filter method we have four techniques . chi-square , mutual information , fisher score , missing value ratio , variance threshold , "
   ]
  },
  {
   "cell_type": "markdown",
   "id": "d2b8bc0e-fa5d-45c0-b22f-ef9df3e6d03e",
   "metadata": {},
   "source": [
    "## Chi-square"
   ]
  },
  {
   "cell_type": "code",
   "execution_count": 73,
   "id": "d1ef3db8-e42d-413b-8132-9e2af1d435d5",
   "metadata": {},
   "outputs": [],
   "source": [
    "#Chi-square\n",
    "from sklearn.feature_selection import SelectKBest\n",
    "from sklearn.feature_selection import chi2"
   ]
  },
  {
   "cell_type": "code",
   "execution_count": 145,
   "id": "074a6d02-5c33-449d-a7b0-d7c36a4c94d2",
   "metadata": {},
   "outputs": [
    {
     "name": "stdout",
     "output_type": "stream",
     "text": [
      "Age : 925.900\n",
      "Previously_Insured : 24033.828\n",
      "Policy_Sales_Channel : 1203.448\n"
     ]
    }
   ],
   "source": [
    "#chi_square accept only numeric and non-negative data \n",
    "\n",
    "#encode categorical columns and numerical columns\n",
    "transform_data = preprocess.fit_transform(X)\n",
    "\n",
    "#finding the best feature in numerical column alone\n",
    "numerical_data = transform_data[: , -len(num_col):]\n",
    "\n",
    "#finding the best feature\n",
    "chi_best = SelectKBest(score_func=chi2 , k=3)\n",
    "k_best=chi_best.fit(numerical_data,y)\n",
    "\n",
    "#select the best indices\n",
    "select_feature_indices = chi_best.get_support(indices=True)\n",
    "\n",
    "#select the feature\n",
    "select_feature = [num_col[i] for i in select_feature_indices]\n",
    "\n",
    "#select the scores\n",
    "select_score = k_best.scores_[select_feature_indices]\n",
    "\n",
    "np.set_printoptions(precision=3)\n",
    "for feature, score in zip(select_feature,select_score):\n",
    "    print(f\"{feature} : {score:.3f}\")"
   ]
  },
  {
   "cell_type": "code",
   "execution_count": null,
   "id": "8c632f7c-8564-4d0c-b071-7e288c8f67e4",
   "metadata": {},
   "outputs": [],
   "source": []
  },
  {
   "cell_type": "markdown",
   "id": "91bf6ab1-d0cf-418c-bc89-b810498b2178",
   "metadata": {},
   "source": [
    "## mutual information"
   ]
  },
  {
   "cell_type": "code",
   "execution_count": 164,
   "id": "6faa9329-0feb-47dd-8450-8412deafe471",
   "metadata": {},
   "outputs": [],
   "source": [
    "from sklearn.feature_selection import mutual_info_classif, SelectKBest\n",
    "\n",
    "selector = SelectKBest(mutual_info_classif,k=3)\n",
    "\n",
    "mul_info = selector.fit(numerical_data,y)"
   ]
  },
  {
   "cell_type": "code",
   "execution_count": 168,
   "id": "4c910f55-f1e9-42d9-9223-b65066cb4570",
   "metadata": {},
   "outputs": [
    {
     "name": "stdout",
     "output_type": "stream",
     "text": [
      "Driving_License : 0.073\n",
      "Previously_Insured : 0.132\n",
      "Policy_Sales_Channel : 0.058\n"
     ]
    }
   ],
   "source": [
    "select_feature_indices = selector.get_support(indices=True)\n",
    "select_feature = [num_col[i] for i in select_feature_indices]\n",
    "select_score = mul_info.scores_[select_feature_indices]\n",
    "\n",
    "np.set_printoptions(precision=3)\n",
    "for feature, score in zip(select_feature,select_score):\n",
    "    print(f\"{feature} : {score:.3f}\")"
   ]
  },
  {
   "cell_type": "code",
   "execution_count": null,
   "id": "ce698708-af2a-4197-82c3-c014859b0102",
   "metadata": {},
   "outputs": [],
   "source": []
  },
  {
   "cell_type": "markdown",
   "id": "168a5c12-37e4-40a5-b63a-f36618af7661",
   "metadata": {},
   "source": [
    "## variance threshold"
   ]
  },
  {
   "cell_type": "code",
   "execution_count": 193,
   "id": "1c367a8e-fccb-4661-97fe-53aef144a51b",
   "metadata": {},
   "outputs": [
    {
     "name": "stdout",
     "output_type": "stream",
     "text": [
      "Selected Features: ['Previously_Insured', 'Policy_Sales_Channel', 'Vintage']\n"
     ]
    }
   ],
   "source": [
    "from sklearn.feature_selection import VarianceThreshold\n",
    "\n",
    "# Initialize VarianceThreshold with a custom threshold (default = 0.0)\n",
    "var_thresh = VarianceThreshold(threshold=0.0)\n",
    "\n",
    "# Fit and transform the numerical data\n",
    "selected_data = var_thresh.fit_transform(numerical_data)\n",
    "\n",
    "# Get the variances of all features\n",
    "variances = var_thresh.variances_\n",
    "\n",
    "# Sort the indices of the features by variance in descending order\n",
    "top_indices = np.argsort(variances)[-3:][::-1]  # Select top 3 features\n",
    "\n",
    "# Get the corresponding feature names\n",
    "select_feature = [num_col[i] for i in top_indices]\n",
    "\n",
    "print(\"Selected Features:\", select_feature)\n"
   ]
  },
  {
   "cell_type": "code",
   "execution_count": null,
   "id": "27f037e3-cc6f-4239-b59b-8cd1f7f7b554",
   "metadata": {},
   "outputs": [],
   "source": []
  },
  {
   "cell_type": "markdown",
   "id": "85cdd2a2-0309-48c9-bda0-b10ff0ca64f0",
   "metadata": {},
   "source": [
    "## ANOVA test"
   ]
  },
  {
   "cell_type": "code",
   "execution_count": 196,
   "id": "0ec48dec-f83f-4d21-83bf-5212d16d391d",
   "metadata": {},
   "outputs": [
    {
     "name": "stdout",
     "output_type": "stream",
     "text": [
      "Age : 0.032\n",
      "Previously_Insured : 0.132\n",
      "Policy_Sales_Channel : 0.058\n"
     ]
    }
   ],
   "source": [
    "from sklearn.feature_selection import f_classif\n",
    "selector= SelectKBest(f_classif,k=3)\n",
    "f_class = selector.fit(numerical_data,y)\n",
    "\n",
    "select_feature_indices = selector.get_support(indices=True)\n",
    "select_feature = [num_col[i] for i in select_feature_indices]\n",
    "select_score = mul_info.scores_[select_feature_indices]\n",
    "\n",
    "np.set_printoptions(precision=3)\n",
    "for feature, score in zip(select_feature,select_score):\n",
    "    print(f\"{feature} : {score:.3f}\")"
   ]
  },
  {
   "cell_type": "code",
   "execution_count": null,
   "id": "dc9e6868-8658-4f1e-8080-eb7c41f3877b",
   "metadata": {},
   "outputs": [],
   "source": []
  },
  {
   "cell_type": "markdown",
   "id": "bc4680a3-004c-4834-804d-83b3831c650b",
   "metadata": {},
   "source": [
    "## wrapper \n",
    "### ---> In wrapper method we have four techniques . Forward-selection , Backward-selection , Exhaustive feature selection , Recursive feature selection "
   ]
  },
  {
   "cell_type": "markdown",
   "id": "f91eae52-ccc0-43f2-9b9f-d7ae6343bd55",
   "metadata": {},
   "source": [
    "## Recursive feature selection"
   ]
  },
  {
   "cell_type": "code",
   "execution_count": 151,
   "id": "2b08d808-ba91-424b-ad1c-75700ae42101",
   "metadata": {},
   "outputs": [],
   "source": [
    "from sklearn.feature_selection import RFE\n",
    "from sklearn.tree import DecisionTreeClassifier"
   ]
  },
  {
   "cell_type": "code",
   "execution_count": 97,
   "id": "08bfd3f0-b6e4-4804-a948-e98587e728cc",
   "metadata": {},
   "outputs": [
    {
     "name": "stdout",
     "output_type": "stream",
     "text": [
      "3\n"
     ]
    }
   ],
   "source": [
    "model = DecisionTreeClassifier()\n",
    "\n",
    "transformed_data = preprocess.fit_transform(X)\n",
    "numerical_data = transformed_data[: , -len(num_col):]\n",
    "\n",
    "recursive_feature = RFE(estimator=model,n_features_to_select=3)\n",
    "feature = recursive_feature.fit(numerical_data,y)\n",
    "\n",
    "print(feature.n_features_)"
   ]
  },
  {
   "cell_type": "code",
   "execution_count": 98,
   "id": "d6515285-4c27-4057-bc18-266ddf6c2197",
   "metadata": {},
   "outputs": [
    {
     "name": "stdout",
     "output_type": "stream",
     "text": [
      "[ True False False False  True False  True]\n",
      "[1 5 3 2 1 4 1]\n"
     ]
    }
   ],
   "source": [
    "print(feature.support_)\n",
    "print(feature.ranking_)"
   ]
  },
  {
   "cell_type": "code",
   "execution_count": 99,
   "id": "904c3034-f9af-4e09-a071-fdb4529c23ba",
   "metadata": {},
   "outputs": [
    {
     "data": {
      "text/plain": [
       "Index(['Gender', 'Age', 'Driving_License', 'Region_Code', 'Previously_Insured',\n",
       "       'Vehicle_Age', 'Vehicle_Damage', 'Annual_Premium',\n",
       "       'Policy_Sales_Channel', 'Vintage'],\n",
       "      dtype='object')"
      ]
     },
     "execution_count": 99,
     "metadata": {},
     "output_type": "execute_result"
    }
   ],
   "source": [
    "X.columns"
   ]
  },
  {
   "cell_type": "code",
   "execution_count": 100,
   "id": "a2d9b2f5-5cce-4935-8d04-13cd271f6ac6",
   "metadata": {},
   "outputs": [
    {
     "name": "stdout",
     "output_type": "stream",
     "text": [
      "Gender True\n",
      "Age False\n",
      "Driving_License False\n",
      "Region_Code False\n",
      "Previously_Insured True\n",
      "Vehicle_Age False\n",
      "Vehicle_Damage True\n"
     ]
    }
   ],
   "source": [
    "for col,val in zip(X.columns, feature.support_):\n",
    "    print(col , val)"
   ]
  },
  {
   "cell_type": "code",
   "execution_count": null,
   "id": "54bb7fbd-67bc-42c3-a512-8279c0c4bcf3",
   "metadata": {},
   "outputs": [],
   "source": []
  },
  {
   "cell_type": "markdown",
   "id": "6f4fbb2f-93c5-48d0-8517-8902d6f0748b",
   "metadata": {},
   "source": [
    "## Embedded method \n",
    "### ---> In Embedded method we have four techniques .  Tree methods , regularization methods"
   ]
  },
  {
   "cell_type": "markdown",
   "id": "b12537d8-4400-4bac-89ad-1aac60fe7af5",
   "metadata": {},
   "source": [
    "##   regularization methods"
   ]
  },
  {
   "cell_type": "code",
   "execution_count": 143,
   "id": "cc308b70-e4c0-4b85-847a-f1a11601e9e8",
   "metadata": {},
   "outputs": [
    {
     "name": "stdout",
     "output_type": "stream",
     "text": [
      "Selected Features: ['Driving_License' 'Previously_Insured' 'Annual_Premium']\n"
     ]
    }
   ],
   "source": [
    "from sklearn.linear_model import Ridge\n",
    "from sklearn.feature_selection import SelectFromModel\n",
    "\n",
    "# Step 1: Preprocess the data\n",
    "transformed_data = preprocess.fit_transform(X)\n",
    "numerical_data = transformed_data[: , -len(num_col):]\n",
    "\n",
    "# Step 2: Fit the Ridge regression model\n",
    "ridge_reg = Ridge(alpha=1.0)\n",
    "ridge_reg.fit(numerical_data, y)\n",
    "\n",
    "# Step 3: Use SelectFromModel for feature selection\n",
    "selector = SelectFromModel(estimator=ridge_reg, prefit=True, threshold=\"mean\")\n",
    "x_selected = selector.transform(numerical_data)\n",
    "\n",
    "# Step 4: Get feature names\n",
    "selected_feature_indices = selector.get_support(indices=True)\n",
    "selected_features = np.array(num_col)[selected_feature_indices]\n",
    "\n",
    "print(\"Selected Features:\", selected_features)\n"
   ]
  },
  {
   "cell_type": "code",
   "execution_count": null,
   "id": "a0446a3a-92a3-4073-a010-be5068be9232",
   "metadata": {},
   "outputs": [],
   "source": []
  },
  {
   "cell_type": "markdown",
   "id": "f2cbeb3d-1377-4317-9225-be91f8938506",
   "metadata": {},
   "source": [
    "## tree based model"
   ]
  },
  {
   "cell_type": "code",
   "execution_count": 204,
   "id": "d895ab2e-bcb5-44b0-89c9-1ec91f453fda",
   "metadata": {},
   "outputs": [],
   "source": [
    "from sklearn.ensemble import RandomForestClassifier\n",
    "\n",
    "rf= RandomForestClassifier()\n",
    "rf.fit(numerical_data,y)\n",
    "\n",
    "feature_importance = rf.feature_importances_\n"
   ]
  },
  {
   "cell_type": "code",
   "execution_count": 214,
   "id": "23e1237a-85cb-4084-a1aa-cc0b936e32e2",
   "metadata": {},
   "outputs": [
    {
     "name": "stdout",
     "output_type": "stream",
     "text": [
      "Vintage: 0.307\n",
      "Annual_Premium: 0.282\n",
      "Age: 0.147\n"
     ]
    }
   ],
   "source": [
    "# Pair each feature with its importance\n",
    "feature_importance_pairs = list(zip(num_col, feature_importance))\n",
    "\n",
    "# Sort the features by importance in descending order\n",
    "feature_importance_pairs.sort(key=lambda x: x[1], reverse=True)\n",
    "\n",
    "# Get the top 3 most important features\n",
    "top_3_features = feature_importance_pairs[:3]\n",
    "\n",
    "# Print the top 3 features and their importance scores\n",
    "for feature, importance in top_3_features:\n",
    "    print(f\"{feature}: {importance:.3f}\")\n"
   ]
  },
  {
   "cell_type": "code",
   "execution_count": null,
   "id": "d948ce7a-308a-4918-a114-72150ea7d479",
   "metadata": {},
   "outputs": [],
   "source": []
  }
 ],
 "metadata": {
  "kernelspec": {
   "display_name": "Python 3 (ipykernel)",
   "language": "python",
   "name": "python3"
  },
  "language_info": {
   "codemirror_mode": {
    "name": "ipython",
    "version": 3
   },
   "file_extension": ".py",
   "mimetype": "text/x-python",
   "name": "python",
   "nbconvert_exporter": "python",
   "pygments_lexer": "ipython3",
   "version": "3.12.7"
  }
 },
 "nbformat": 4,
 "nbformat_minor": 5
}
